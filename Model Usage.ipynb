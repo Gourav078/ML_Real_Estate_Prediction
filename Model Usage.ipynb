{
 "cells": [
  {
   "cell_type": "code",
   "execution_count": 1,
   "id": "2dad976d-33f4-4959-af5f-0a941a6c2e68",
   "metadata": {},
   "outputs": [],
   "source": [
    "from joblib import dump, load\n",
    "import numpy as np\n",
    "model = load('Real.joblib')"
   ]
  },
  {
   "cell_type": "code",
   "execution_count": 16,
   "id": "c1a1c2bf-84fe-40d3-b323-8712b9dde396",
   "metadata": {},
   "outputs": [
    {
     "data": {
      "text/plain": [
       "array([24.328])"
      ]
     },
     "execution_count": 16,
     "metadata": {},
     "output_type": "execute_result"
    }
   ],
   "source": [
    "features = np.array([[-0.43942006,  7.12628155, -1.12165014, -2.27288841, -1.42262747,\n",
    "       -.24374059, -99.31238772,  2.61111401, -29.0016859 , -0.5778192 ,\n",
    "       -0.97491834,  0.41164221, -66.86091034]])\n",
    "model.predict(features)"
   ]
  },
  {
   "cell_type": "markdown",
   "id": "d588a753-fccb-4896-99e5-697605863711",
   "metadata": {},
   "source": [
    "## using the models"
   ]
  },
  {
   "cell_type": "code",
   "execution_count": null,
   "id": "411b74f2-4123-49ed-b648-b38f17194be9",
   "metadata": {},
   "outputs": [],
   "source": []
  }
 ],
 "metadata": {
  "kernelspec": {
   "display_name": "Python 3 (ipykernel)",
   "language": "python",
   "name": "python3"
  },
  "language_info": {
   "codemirror_mode": {
    "name": "ipython",
    "version": 3
   },
   "file_extension": ".py",
   "mimetype": "text/x-python",
   "name": "python",
   "nbconvert_exporter": "python",
   "pygments_lexer": "ipython3",
   "version": "3.12.1"
  }
 },
 "nbformat": 4,
 "nbformat_minor": 5
}
